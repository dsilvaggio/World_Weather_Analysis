{
 "cells": [
  {
   "cell_type": "code",
   "execution_count": 13,
   "id": "abe4324c",
   "metadata": {},
   "outputs": [],
   "source": [
    "import random\n",
    "# Import the NumPy module.\n",
    "import numpy as np\n",
    "# Import timeit.\n",
    "import timeit"
   ]
  },
  {
   "cell_type": "code",
   "execution_count": 2,
   "id": "2eea9089",
   "metadata": {},
   "outputs": [
    {
     "data": {
      "text/plain": [
       "-89"
      ]
     },
     "execution_count": 2,
     "metadata": {},
     "output_type": "execute_result"
    }
   ],
   "source": [
    "random.randint(-90,90)"
   ]
  },
  {
   "cell_type": "code",
   "execution_count": 3,
   "id": "ae8e635c",
   "metadata": {},
   "outputs": [
    {
     "data": {
      "text/plain": [
       "0.260092484262891"
      ]
     },
     "execution_count": 3,
     "metadata": {},
     "output_type": "execute_result"
    }
   ],
   "source": [
    "random.random()"
   ]
  },
  {
   "cell_type": "code",
   "execution_count": 4,
   "id": "6480af71",
   "metadata": {},
   "outputs": [
    {
     "data": {
      "text/plain": [
       "-17.399834995441076"
      ]
     },
     "execution_count": 4,
     "metadata": {},
     "output_type": "execute_result"
    }
   ],
   "source": [
    "random_number = random.randint(-90,89) + random.random()\n",
    "random_number"
   ]
  },
  {
   "cell_type": "code",
   "execution_count": 5,
   "id": "f9f2277a",
   "metadata": {},
   "outputs": [],
   "source": [
    "x = 1\n",
    "latitudes = []\n",
    "while x < 11:\n",
    "    random_lat = random.randint(-90, 89) + random.random()\n",
    "    latitudes.append(random_lat)\n",
    "    x += 1"
   ]
  },
  {
   "cell_type": "code",
   "execution_count": 6,
   "id": "25a339c3",
   "metadata": {},
   "outputs": [
    {
     "data": {
      "text/plain": [
       "[-11.435203308069799,\n",
       " 4.500710659718141,\n",
       " 0.6858699675993659,\n",
       " 22.925236270085644,\n",
       " 85.58054105344655,\n",
       " 5.5433871794739495,\n",
       " 29.15611300726235,\n",
       " -73.8048642617489,\n",
       " -58.936066765751605,\n",
       " 34.666927165887756]"
      ]
     },
     "execution_count": 6,
     "metadata": {},
     "output_type": "execute_result"
    }
   ],
   "source": [
    "latitudes"
   ]
  },
  {
   "cell_type": "code",
   "execution_count": 7,
   "id": "f65fa9bb",
   "metadata": {},
   "outputs": [
    {
     "data": {
      "text/plain": [
       "74"
      ]
     },
     "execution_count": 7,
     "metadata": {},
     "output_type": "execute_result"
    }
   ],
   "source": [
    "random.randrange(-90, 90, step=1)"
   ]
  },
  {
   "cell_type": "code",
   "execution_count": 8,
   "id": "43bd0bdf",
   "metadata": {},
   "outputs": [
    {
     "data": {
      "text/plain": [
       "-30"
      ]
     },
     "execution_count": 8,
     "metadata": {},
     "output_type": "execute_result"
    }
   ],
   "source": [
    "random.randrange(-90, 90, step=3)"
   ]
  },
  {
   "cell_type": "code",
   "execution_count": 9,
   "id": "8fc38b99",
   "metadata": {},
   "outputs": [
    {
     "data": {
      "text/plain": [
       "-7.323393650359364"
      ]
     },
     "execution_count": 9,
     "metadata": {},
     "output_type": "execute_result"
    }
   ],
   "source": [
    "random.uniform(-90, 90)"
   ]
  },
  {
   "cell_type": "code",
   "execution_count": 12,
   "id": "292e2847",
   "metadata": {},
   "outputs": [
    {
     "data": {
      "text/plain": [
       "array([-41.6972941 ,  67.01825616,  29.19088055, -60.63846832,\n",
       "        23.65233104,  78.1190562 ,  74.51466564,  41.51951219,\n",
       "         7.287854  ,  59.53209322,  48.27020686,  38.71606315,\n",
       "       -23.06285958,   9.95813245,  82.92172616, -18.09344448,\n",
       "        36.94627626,  79.25451194,  -1.44244042, -66.43489354,\n",
       "        83.99900113, -24.69114288,  52.86249729,   4.88404713,\n",
       "       -21.09295309, -71.85769618, -64.5638087 ,  -8.30884782,\n",
       "        29.59970026, -87.27971405,  86.06446288,  55.04662156,\n",
       "       -87.34032382,   2.1771995 ,  44.62908412, -15.45894682,\n",
       "        76.56754753,   2.28977658, -49.79238095, -67.26438508,\n",
       "       -69.63648232, -45.0532624 , -69.52344872, -42.47782508,\n",
       "       -70.95002964,  45.10546962,  -3.63961264,  44.19240622,\n",
       "        33.00991039,  87.55493672])"
      ]
     },
     "execution_count": 12,
     "metadata": {},
     "output_type": "execute_result"
    }
   ],
   "source": [
    "np.random.uniform(-90.000, 90.000, size = 50)"
   ]
  },
  {
   "cell_type": "code",
   "execution_count": 14,
   "id": "11288d60",
   "metadata": {},
   "outputs": [
    {
     "name": "stdout",
     "output_type": "stream",
     "text": [
      "31.3 µs ± 5.65 µs per loop (mean ± std. dev. of 7 runs, 10000 loops each)\n"
     ]
    }
   ],
   "source": [
    "%timeit np.random.uniform(-90.000, 90.000, size = 1500)"
   ]
  },
  {
   "cell_type": "code",
   "execution_count": 18,
   "id": "fb44e155",
   "metadata": {},
   "outputs": [
    {
     "name": "stdout",
     "output_type": "stream",
     "text": [
      "3.18 ms ± 117 µs per loop (mean ± std. dev. of 7 runs, 100 loops each)\n"
     ]
    }
   ],
   "source": [
    "def latitudes(size):\n",
    "    latitudes = []\n",
    "    x = 0\n",
    "    while x < (size):\n",
    "        random_lat = random.randint(-90, 90) + random.random()\n",
    "        latitudes.append(random_lat)\n",
    "        x += 1\n",
    "    return latitudes\n",
    "# Call the function with 1500.\n",
    "%timeit latitudes(1500)"
   ]
  },
  {
   "cell_type": "code",
   "execution_count": null,
   "id": "626de6f1",
   "metadata": {},
   "outputs": [],
   "source": []
  }
 ],
 "metadata": {
  "kernelspec": {
   "display_name": "PythonData",
   "language": "python",
   "name": "pythondata"
  },
  "language_info": {
   "codemirror_mode": {
    "name": "ipython",
    "version": 3
   },
   "file_extension": ".py",
   "mimetype": "text/x-python",
   "name": "python",
   "nbconvert_exporter": "python",
   "pygments_lexer": "ipython3",
   "version": "3.9.7"
  }
 },
 "nbformat": 4,
 "nbformat_minor": 5
}
